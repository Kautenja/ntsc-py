{
 "cells": [
  {
   "cell_type": "code",
   "execution_count": null,
   "metadata": {},
   "outputs": [],
   "source": [
    "import sys\n",
    "import ctypes\n",
    "import cv2\n",
    "import skimage.io as io\n",
    "import skimage.transform as T\n",
    "import numpy as np\n",
    "from scipy.misc import face\n",
    "import matplotlib.pyplot as plt\n",
    "from IPython import display\n",
    "from moviepy.editor import VideoClip, VideoFileClip\n",
    "from IPython.display import Video as IPythonVideo\n",
    "from ntsc_py.snes_ntsc import SNES_NTSC, rgb32_888_to_rgb16_565"
   ]
  },
  {
   "cell_type": "markdown",
   "metadata": {},
   "source": [
    "## Video Structures"
   ]
  },
  {
   "cell_type": "code",
   "execution_count": null,
   "metadata": {},
   "outputs": [],
   "source": [
    "class FrameIterator:\n",
    "    def __init__(self, frames):\n",
    "        self.i = 0\n",
    "        self.frames = frames\n",
    "\n",
    "    def __call__(self, *args, **kwargs):\n",
    "        frame = self.frames[self.i]\n",
    "        if self.i < len(self.frames) - 1:\n",
    "            self.i = self.i + 1\n",
    "        return frame"
   ]
  },
  {
   "cell_type": "code",
   "execution_count": null,
   "metadata": {},
   "outputs": [],
   "source": [
    "def save_frames(path, frames, fps=30):\n",
    "    clip = VideoClip(FrameIterator(frames), duration=(len(frames) / fps))\n",
    "    clip = clip.set_fps(fps)\n",
    "    clip.write_videofile(path)"
   ]
  },
  {
   "cell_type": "markdown",
   "metadata": {},
   "source": [
    "## Load Filter"
   ]
  },
  {
   "cell_type": "code",
   "execution_count": null,
   "metadata": {
    "scrolled": false
   },
   "outputs": [],
   "source": [
    "h = SNES_NTSC(mode='composite', flicker=True)"
   ]
  },
  {
   "cell_type": "code",
   "execution_count": null,
   "metadata": {},
   "outputs": [],
   "source": [
    "h.snes_pixels.dtype, h.snes_pixels.shape"
   ]
  },
  {
   "cell_type": "code",
   "execution_count": null,
   "metadata": {},
   "outputs": [],
   "source": [
    "h.ntsc_pixels.dtype, h.ntsc_pixels.shape"
   ]
  },
  {
   "cell_type": "markdown",
   "metadata": {},
   "source": [
    "### Lossy Encode RGB Image"
   ]
  },
  {
   "cell_type": "code",
   "execution_count": null,
   "metadata": {},
   "outputs": [],
   "source": [
    "H, W, C = h.snes_pixels.shape"
   ]
  },
  {
   "cell_type": "code",
   "execution_count": null,
   "metadata": {},
   "outputs": [],
   "source": [
    "img = T.resize(face(), (H, W), preserve_range=True).round().astype(int)\n",
    "# img = T.resize(io.imread('img/python.png'), (H, W), preserve_range=True).round().astype(int)[..., :3]\n",
    "ax = plt.imshow(img)\n",
    "ax.axes.xaxis.set_major_locator(plt.NullLocator())\n",
    "ax.axes.yaxis.set_major_locator(plt.NullLocator())"
   ]
  },
  {
   "cell_type": "code",
   "execution_count": null,
   "metadata": {},
   "outputs": [],
   "source": [
    "h.snes_pixels[:] = rgb32_888_to_rgb16_565(img)\n",
    "ax = plt.imshow(h.snes_pixels)\n",
    "ax.axes.xaxis.set_major_locator(plt.NullLocator())\n",
    "ax.axes.yaxis.set_major_locator(plt.NullLocator())"
   ]
  },
  {
   "cell_type": "markdown",
   "metadata": {},
   "source": [
    "## Input Buffer"
   ]
  },
  {
   "cell_type": "code",
   "execution_count": null,
   "metadata": {},
   "outputs": [],
   "source": [
    "h.process()\n",
    "ax = plt.imshow(h.ntsc_pixels)\n",
    "ax.axes.xaxis.set_major_locator(plt.NullLocator())\n",
    "ax.axes.yaxis.set_major_locator(plt.NullLocator())\n",
    "plt.show()"
   ]
  },
  {
   "cell_type": "markdown",
   "metadata": {},
   "source": [
    "## Process Output"
   ]
  },
  {
   "cell_type": "code",
   "execution_count": null,
   "metadata": {},
   "outputs": [],
   "source": [
    "for i in range(60):\n",
    "    h.process()\n",
    "    display.clear_output(wait=True)\n",
    "    ax = plt.imshow(h.ntsc_pixels)\n",
    "    ax.axes.xaxis.set_major_locator(plt.NullLocator())\n",
    "    ax.axes.yaxis.set_major_locator(plt.NullLocator())\n",
    "    plt.show()"
   ]
  },
  {
   "cell_type": "markdown",
   "metadata": {},
   "source": [
    "## Adjust Parameters"
   ]
  },
  {
   "cell_type": "code",
   "execution_count": null,
   "metadata": {},
   "outputs": [],
   "source": [
    "frames = []\n",
    "for i in range(400):\n",
    "    h.setup(\n",
    "        hue=i/200 - 1, \n",
    "        saturation=i/2 - 1, \n",
    "        contrast=i/200 - 1, \n",
    "        brightness=i/200 - 1, \n",
    "        sharpness=i/200 - 1, \n",
    "        gamma=i/200 - 1,\n",
    "        artifacts=20 * i - 1,\n",
    "        fringing=i/200 - 1,\n",
    "        bleed=i/200 - 1,\n",
    "    )\n",
    "#     cv2.putText(h.nes_pixels, 'NES', (35, 90), cv2.FONT_HERSHEY_SIMPLEX, 3, (0x3f, ), 3)\n",
    "#     cv2.putText(h.nes_pixels, 'NTSC', (10, 190), cv2.FONT_HERSHEY_SIMPLEX, 3, (0x3f, ), 3)\n",
    "    # step the filter\n",
    "    h.process()\n",
    "    shape = list(h.ntsc_pixels.shape)\n",
    "    shape[1] = shape[1] / 2\n",
    "    output = T.resize(h.ntsc_pixels, shape, preserve_range=True)\n",
    "    frames.append(output.round().astype('uint8'))\n",
    "frames = frames[50:]"
   ]
  },
  {
   "cell_type": "code",
   "execution_count": null,
   "metadata": {},
   "outputs": [],
   "source": [
    "path = 'img/snes-ntsc.mp4'\n",
    "save_frames(path, frames)\n",
    "IPythonVideo(path, embed=True)"
   ]
  },
  {
   "cell_type": "code",
   "execution_count": null,
   "metadata": {},
   "outputs": [],
   "source": [
    "video = VideoFileClip(path)\n",
    "# video = video.subclip((0, 50), (1, 10))\n",
    "video = video.set_fps(1)\n",
    "# video = video.resize(0.5)\n",
    "video.write_gif(path.replace('.mp4', '.gif'))"
   ]
  },
  {
   "cell_type": "markdown",
   "metadata": {},
   "source": [
    " "
   ]
  }
 ],
 "metadata": {
  "kernelspec": {
   "display_name": "Python 3",
   "language": "python",
   "name": "python3"
  },
  "language_info": {
   "codemirror_mode": {
    "name": "ipython",
    "version": 3
   },
   "file_extension": ".py",
   "mimetype": "text/x-python",
   "name": "python",
   "nbconvert_exporter": "python",
   "pygments_lexer": "ipython3",
   "version": "3.9.1"
  },
  "toc": {
   "base_numbering": 1,
   "nav_menu": {},
   "number_sections": true,
   "sideBar": true,
   "skip_h1_title": false,
   "title_cell": "Table of Contents",
   "title_sidebar": "Contents",
   "toc_cell": false,
   "toc_position": {},
   "toc_section_display": true,
   "toc_window_display": false
  }
 },
 "nbformat": 4,
 "nbformat_minor": 4
}
